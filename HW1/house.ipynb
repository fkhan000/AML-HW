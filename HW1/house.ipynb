{
 "cells": [
  {
   "cell_type": "code",
   "execution_count": 15,
   "metadata": {},
   "outputs": [
    {
     "name": "stdout",
     "output_type": "stream",
     "text": [
      "      OverallQual  GrLivArea  GarageCars  GarageArea  TotalBsmtSF  1stFlrSF  \\\n",
      "24      -0.797087  -0.860323   -1.026922   -0.945666     0.017479 -0.255274   \n",
      "531     -0.069745  -0.283395    0.315740    0.137752    -1.003834 -1.059914   \n",
      "721     -0.069745  -1.265319    0.315740   -0.245181    -0.464745 -0.807325   \n",
      "1171    -0.069745  -0.476341    0.315740   -0.184472     0.474681  0.268132   \n",
      "753      1.384939   1.122629    1.658402    1.893636    -0.050760 -0.312563   \n",
      "\n",
      "      FullBath  BsmtQual_Ex  TotRmsAbvGrd  YearBuilt  \n",
      "24   -1.025389    -0.296111     -0.308749  -0.120181  \n",
      "531   0.792912    -0.296111     -0.308749  -1.720698  \n",
      "721  -1.025389    -0.296111     -2.181193   1.080207  \n",
      "1171 -1.025389    -0.296111     -0.308749  -0.453622  \n",
      "753   0.792912    -0.296111      0.939547   1.113551  \n"
     ]
    }
   ],
   "source": [
    "import pandas as pd\n",
    "import os\n",
    "from sklearn.model_selection import train_test_split\n",
    "\n",
    "def prepare_dataset(X, x_train=None):\n",
    "\n",
    "    for col in X.columns:\n",
    "        if X[col].dtype == object:\n",
    "            one_hot = pd.get_dummies(X[col], prefix=col)\n",
    "            X = X.drop(col, axis = 1)\n",
    "            X = X.join(one_hot)\n",
    "    \n",
    "    for col in X.columns:\n",
    "        X[col] = X[col].fillna(X[col].mean())\n",
    "\n",
    "    if x_train is not None:\n",
    "        X = (X - X.mean())/X.std()\n",
    "        feature_names = sorted(x_train.columns, key = lambda col: x_train[col].corr(x_train[\"SalePrice\"]), reverse=True)[:11]\n",
    "\n",
    "    else:\n",
    "        X = (X - X.mean())/X.std()\n",
    "        feature_names = sorted(X.columns, key = lambda col: X[col].corr(X[\"SalePrice\"]), reverse=True)[:11]\n",
    "\n",
    "    return X[feature_names]\n",
    "def load_dataset():\n",
    "    df = pd.read_csv(os.path.join(\"house_data\", \"train.csv\"))\n",
    "\n",
    "    x_train, x_val = train_test_split(df, test_size=0.1)\n",
    "\n",
    "    x_train = prepare_dataset(x_train)\n",
    "    x_val = prepare_dataset(x_val, x_train=x_train)\n",
    "\n",
    "    y_train = x_train[\"SalePrice\"]\n",
    "    y_val = x_val[\"SalePrice\"]\n",
    "    x_train = x_train.drop(\"SalePrice\", axis=1)\n",
    "    x_val = x_val.drop(\"SalePrice\", axis=1)\n",
    "    \n",
    "\n",
    "    return x_train, y_train, x_val, y_val\n",
    "\n",
    "x_train, y_train, x_val, y_val = load_dataset()\n",
    "\n",
    "print(x_train.head())\n",
    "\n"
   ]
  },
  {
   "cell_type": "code",
   "execution_count": 16,
   "metadata": {},
   "outputs": [
    {
     "name": "stdout",
     "output_type": "stream",
     "text": [
      "0.7850477896439645\n",
      "0.8423219611714344\n"
     ]
    }
   ],
   "source": [
    "from sklearn.linear_model import LinearRegression\n",
    "\n",
    "clf = LinearRegression().fit(x_train, y_train)\n",
    "\n",
    "print(clf.score(x_train, y_train))\n",
    "print(clf.score(x_val, y_val))"
   ]
  }
 ],
 "metadata": {
  "kernelspec": {
   "display_name": "Python 3",
   "language": "python",
   "name": "python3"
  },
  "language_info": {
   "codemirror_mode": {
    "name": "ipython",
    "version": 3
   },
   "file_extension": ".py",
   "mimetype": "text/x-python",
   "name": "python",
   "nbconvert_exporter": "python",
   "pygments_lexer": "ipython3",
   "version": "3.11.5"
  }
 },
 "nbformat": 4,
 "nbformat_minor": 2
}

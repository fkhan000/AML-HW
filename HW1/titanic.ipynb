{
 "cells": [
  {
   "cell_type": "code",
   "execution_count": 3,
   "metadata": {},
   "outputs": [
    {
     "name": "stdout",
     "output_type": "stream",
     "text": [
      "Index(['Pclass', 'Sex', 'Parch', 'NameLength', 'Child', 'Expensive'], dtype='object')\n"
     ]
    }
   ],
   "source": [
    "import pandas as pd\n",
    "import os\n",
    "from sklearn.model_selection import train_test_split\n",
    "\n",
    "def prepare_dataset(X, train = False, mean = 0, std =1):\n",
    "    X[\"NameLength\"] = X[\"Name\"].apply(lambda x: len(x))\n",
    "\n",
    "    X = X.drop([\"Survived\", \"PassengerId\", \"Name\", \"Embarked\", \"Ticket\", \"Cabin\", \"SibSp\"], axis=1, errors=\"ignore\")\n",
    "\n",
    "    X[\"Sex\"] = X[\"Sex\"].apply(lambda x: 1 if x == \"male\" else 0)\n",
    "\n",
    "    for col in X.columns:\n",
    "        X[col] = X[col].fillna(X[col].mean())\n",
    "    \n",
    "    X[\"Child\"] = X[\"Age\"].apply(lambda x: 1 if x < 15 else 0)\n",
    "\n",
    "    X[\"Expensive\"] = X[\"Fare\"].apply(lambda x: 1 if x < 18 else 0)\n",
    "\n",
    "    if train:\n",
    "        mean = X.mean()\n",
    "        std = X.std()\n",
    "        X = (X - mean)/std\n",
    "    else:\n",
    "        X = (X - mean)/std\n",
    "\n",
    "    X = X.drop([\"Age\", \"Fare\"], axis = 1)\n",
    "\n",
    "    if train:\n",
    "        return X, mean, std\n",
    "    return X\n",
    "\n",
    "\n",
    "def load_datasets():\n",
    "    x_train = pd.read_csv(os.path.join(\"titanic_data\", \"train.csv\"))\n",
    "    x_test = pd.read_csv(os.path.join(\"titanic_data\", \"test.csv\"))\n",
    "    \n",
    "    x_train, x_val = train_test_split(x_train, test_size=0.1)\n",
    "    \n",
    "    y_train = x_train[\"Survived\"]\n",
    "    y_val = x_val[\"Survived\"]\n",
    "    y_test = pd.read_csv(os.path.join(\"titanic_data\", \"gender_submission.csv\"))[\"Survived\"]\n",
    "    \n",
    "    x_train, mean, std = prepare_dataset(x_train, train=True)\n",
    "    x_val = prepare_dataset(x_val, mean=mean, std=std)\n",
    "    x_test = prepare_dataset(x_test, mean=mean, std=std)\n",
    "\n",
    "    return x_train, y_train, x_val, y_val, x_test, y_test\n",
    "\n",
    "x_train, y_train, x_val, y_val, x_test, y_test = load_datasets()\n"
   ]
  },
  {
   "cell_type": "code",
   "execution_count": 2,
   "metadata": {},
   "outputs": [
    {
     "name": "stdout",
     "output_type": "stream",
     "text": [
      "0.8127340823970037\n",
      "0.8333333333333334\n",
      "0.9688995215311005\n"
     ]
    }
   ],
   "source": [
    "from sklearn.linear_model import LogisticRegression\n",
    "clf = LogisticRegression().fit(x_train, y_train)\n",
    "\n",
    "print(clf.score(x_train, y_train))\n",
    "print(clf.score(x_val, y_val))\n",
    "print(clf.score(x_test,y_test))"
   ]
  }
 ],
 "metadata": {
  "kernelspec": {
   "display_name": "Python 3",
   "language": "python",
   "name": "python3"
  },
  "language_info": {
   "codemirror_mode": {
    "name": "ipython",
    "version": 3
   },
   "file_extension": ".py",
   "mimetype": "text/x-python",
   "name": "python",
   "nbconvert_exporter": "python",
   "pygments_lexer": "ipython3",
   "version": "3.11.5"
  }
 },
 "nbformat": 4,
 "nbformat_minor": 2
}

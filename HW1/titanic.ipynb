{
 "cells": [
  {
   "cell_type": "code",
   "execution_count": 84,
   "metadata": {},
   "outputs": [],
   "source": [
    "import pandas as pd\n",
    "import os\n",
    "from sklearn.model_selection import train_test_split\n",
    "\n",
    "def prepare_dataset(X):\n",
    "    X[\"NameLength\"] = X[\"Name\"].apply(lambda x: len(x))\n",
    "\n",
    "    X = X.drop([\"Survived\", \"PassengerId\", \"Name\", \"Embarked\", \"Ticket\", \"Cabin\", \"SibSp\"], axis=1, errors=\"ignore\")\n",
    "\n",
    "    X[\"Sex\"] = X[\"Sex\"].apply(lambda x: 1 if x == \"male\" else 0)\n",
    "\n",
    "    for col in X.columns:\n",
    "        X[col] = X[col].fillna(X[col].mean())\n",
    "    \n",
    "    X[\"Child\"] = X[\"Age\"].apply(lambda x: 1 if x < 15 else 0)\n",
    "\n",
    "    X[\"Expensive\"] = X[\"Fare\"].apply(lambda x: 1 if x < 18 else 0)\n",
    "\n",
    "    X = (X - X.mean())/X.std()\n",
    "\n",
    "    X = X.drop([\"Age\", \"Fare\"], axis = 1)\n",
    "\n",
    "    return X\n",
    "\n",
    "\n",
    "def load_datasets():\n",
    "    x_train = pd.read_csv(os.path.join(\"titanic_data\", \"train.csv\"))\n",
    "    x_test = pd.read_csv(os.path.join(\"titanic_data\", \"test.csv\"))\n",
    "    \n",
    "    x_train, x_val = train_test_split(x_train, test_size=0.1)\n",
    "    \n",
    "    y_train = x_train[\"Survived\"]\n",
    "    y_val = x_val[\"Survived\"]\n",
    "    y_test = pd.read_csv(os.path.join(\"titanic_data\", \"gender_submission.csv\"))[\"Survived\"]\n",
    "    \n",
    "    x_train = prepare_dataset(x_train)\n",
    "    x_val = prepare_dataset(x_val)\n",
    "    x_test = prepare_dataset(x_test)\n",
    "\n",
    "    return x_train, y_train, x_val, y_val, x_test, y_test\n",
    "\n",
    "x_train, y_train, x_val, y_val, x_test, y_test = load_datasets()"
   ]
  },
  {
   "cell_type": "code",
   "execution_count": 86,
   "metadata": {},
   "outputs": [
    {
     "name": "stdout",
     "output_type": "stream",
     "text": [
      "0.8139825218476904\n"
     ]
    },
    {
     "ename": "TypeError",
     "evalue": "unsupported operand type(s) for /: 'NoneType' and 'float'",
     "output_type": "error",
     "traceback": [
      "\u001b[1;31m---------------------------------------------------------------------------\u001b[0m",
      "\u001b[1;31mTypeError\u001b[0m                                 Traceback (most recent call last)",
      "Cell \u001b[1;32mIn[86], line 4\u001b[0m\n\u001b[0;32m      1\u001b[0m \u001b[38;5;28;01mfrom\u001b[39;00m \u001b[38;5;21;01msklearn\u001b[39;00m\u001b[38;5;21;01m.\u001b[39;00m\u001b[38;5;21;01mlinear_model\u001b[39;00m \u001b[38;5;28;01mimport\u001b[39;00m LogisticRegression\n\u001b[0;32m      2\u001b[0m clf \u001b[38;5;241m=\u001b[39m LogisticRegression()\u001b[38;5;241m.\u001b[39mfit(x_train, y_train)\n\u001b[1;32m----> 4\u001b[0m \u001b[38;5;28;43mprint\u001b[39;49m\u001b[43m(\u001b[49m\u001b[43mclf\u001b[49m\u001b[38;5;241;43m.\u001b[39;49m\u001b[43mscore\u001b[49m\u001b[43m(\u001b[49m\u001b[43mx_train\u001b[49m\u001b[43m,\u001b[49m\u001b[43m \u001b[49m\u001b[43my_train\u001b[49m\u001b[43m)\u001b[49m\u001b[43m)\u001b[49m\u001b[38;5;241;43m/\u001b[39;49m\u001b[43my_train\u001b[49m\u001b[38;5;241;43m.\u001b[39;49m\u001b[43mmean\u001b[49m\u001b[43m(\u001b[49m\u001b[43m)\u001b[49m\n\u001b[0;32m      5\u001b[0m \u001b[38;5;28mprint\u001b[39m(clf\u001b[38;5;241m.\u001b[39mscore(x_val, y_val))\u001b[38;5;241m/\u001b[39my_val\u001b[38;5;241m.\u001b[39mmean()\n\u001b[0;32m      6\u001b[0m \u001b[38;5;28mprint\u001b[39m(clf\u001b[38;5;241m.\u001b[39mscore(x_test, y_test))\n",
      "\u001b[1;31mTypeError\u001b[0m: unsupported operand type(s) for /: 'NoneType' and 'float'"
     ]
    }
   ],
   "source": [
    "from sklearn.linear_model import LogisticRegression\n",
    "clf = LogisticRegression().fit(x_train, y_train)\n",
    "\n",
    "print(clf.score(x_train, y_train))\n",
    "print(clf.score(x_val, y_val))\n",
    "print(clf.score(x_test,y_test))"
   ]
  }
 ],
 "metadata": {
  "kernelspec": {
   "display_name": "Python 3",
   "language": "python",
   "name": "python3"
  },
  "language_info": {
   "codemirror_mode": {
    "name": "ipython",
    "version": 3
   },
   "file_extension": ".py",
   "mimetype": "text/x-python",
   "name": "python",
   "nbconvert_exporter": "python",
   "pygments_lexer": "ipython3",
   "version": "3.11.5"
  }
 },
 "nbformat": 4,
 "nbformat_minor": 2
}
